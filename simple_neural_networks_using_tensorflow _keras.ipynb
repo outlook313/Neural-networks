{
 "cells": [
  {
   "cell_type": "markdown",
   "metadata": {},
   "source": [
    "Building Your Neural Network for classifying numbers"
   ]
  },
  {
   "cell_type": "markdown",
   "metadata": {},
   "source": [
    "Now import the packages from the Keras library:"
   ]
  },
  {
   "cell_type": "code",
   "execution_count": 8,
   "metadata": {},
   "outputs": [],
   "source": [
    "from keras.callbacks import ModelCheckpoint\n",
    "from keras.layers import Dense, Flatten, Activation, BatchNormalization,Dropout\n",
    "from keras.models import Sequential\n",
    "from tensorflow.keras.optimizers import Adadelta\n",
    "from tensorflow.keras import utils as np_utils\n",
    "import numpy as np"
   ]
  },
  {
   "cell_type": "code",
   "execution_count": 9,
   "metadata": {},
   "outputs": [],
   "source": [
    "from keras.datasets import mnist\n",
    "(x_train, y_train), (x_test, y_test) = mnist.load_data()"
   ]
  },
  {
   "cell_type": "code",
   "execution_count": 10,
   "metadata": {},
   "outputs": [
    {
     "name": "stdout",
     "output_type": "stream",
     "text": [
      "(28, 28, 1)\n",
      "(60000, 28, 28, 1)\n"
     ]
    }
   ],
   "source": [
    "x_train = (x_train.astype(np.float32))/255.0\n",
    "x_test = (x_test.astype(np.float32))/255.0\n",
    "x_train = x_train.reshape(x_train.shape[0], 28, 28, 1)\n",
    "x_test = x_test.reshape(x_test.shape[0], 28, 28, 1)\n",
    "y_train = np_utils.to_categorical(y_train, 10)\n",
    "y_test = np_utils.to_categorical(y_test, 10)\n",
    "input_shape = x_train.shape[1:]\n",
    "print(input_shape)\n",
    "print(x_train.shape)"
   ]
  },
  {
   "cell_type": "code",
   "execution_count": 15,
   "metadata": {},
   "outputs": [
    {
     "name": "stdout",
     "output_type": "stream",
     "text": [
      "Epoch 1/10\n",
      "938/938 [==============================] - 1873s 2s/step - loss: 1.0774 - accuracy: 0.6570 - val_loss: 0.4140 - val_accuracy: 0.8739\n",
      "Epoch 2/10\n",
      "938/938 [==============================] - 1876s 2s/step - loss: 0.5422 - accuracy: 0.8324 - val_loss: 0.3408 - val_accuracy: 0.8986\n",
      "Epoch 3/10\n",
      "938/938 [==============================] - 1965s 2s/step - loss: 0.4411 - accuracy: 0.8664 - val_loss: 0.3366 - val_accuracy: 0.9007\n",
      "Epoch 4/10\n",
      "938/938 [==============================] - 2104s 2s/step - loss: 0.3839 - accuracy: 0.8856 - val_loss: 0.3545 - val_accuracy: 0.8930\n",
      "Epoch 5/10\n",
      "938/938 [==============================] - 10104s 11s/step - loss: 0.3406 - accuracy: 0.8987 - val_loss: 0.3605 - val_accuracy: 0.8908\n",
      "Epoch 6/10\n",
      "938/938 [==============================] - 2065s 2s/step - loss: 0.3090 - accuracy: 0.9074 - val_loss: 0.3590 - val_accuracy: 0.8914\n",
      "Epoch 7/10\n",
      "938/938 [==============================] - 8309s 9s/step - loss: 0.2826 - accuracy: 0.9144 - val_loss: 0.3535 - val_accuracy: 0.8932\n",
      "Epoch 8/10\n",
      "938/938 [==============================] - 2065s 2s/step - loss: 0.2649 - accuracy: 0.9213 - val_loss: 0.3764 - val_accuracy: 0.8833\n",
      "Epoch 9/10\n",
      "938/938 [==============================] - 3942s 4s/step - loss: 0.2424 - accuracy: 0.9276 - val_loss: 0.3542 - val_accuracy: 0.8892\n",
      "Epoch 10/10\n",
      "938/938 [==============================] - 2124s 2s/step - loss: 0.2265 - accuracy: 0.9326 - val_loss: 0.3674 - val_accuracy: 0.8839\n"
     ]
    },
    {
     "data": {
      "text/plain": [
       "<keras.callbacks.History at 0x7efd5357c850>"
      ]
     },
     "execution_count": 15,
     "metadata": {},
     "output_type": "execute_result"
    }
   ],
   "source": [
    "model = Sequential()\n",
    "model.add(Dense(512, input_shape=input_shape))\n",
    "model.add(Activation('relu'))\n",
    "model.add(BatchNormalization())\n",
    "model.add(Dropout(0.2))\n",
    "model.add(Dense(512))\n",
    "model.add(Activation('relu'))\n",
    "model.add(BatchNormalization())\n",
    "model.add(Dropout(0.2))\n",
    "model.add(Dense(256))\n",
    "model.add(Activation('relu'))\n",
    "model.add(BatchNormalization())\n",
    "model.add(Dropout(0.2))\n",
    "model.add(Flatten())\n",
    "model.add(Dense(256))\n",
    "model.add(Activation('relu'))\n",
    "model.add(BatchNormalization())\n",
    "model.add(Dropout(0.2))\n",
    "model.add(Dense(10, activation=\"softmax\"))\n",
    "model.compile(loss='categorical_crossentropy', optimizer=Adadelta(),metrics=['accuracy'])\n",
    "ckpt = ModelCheckpoint('Models/model.h5', save_best_only=True,monitor='val_loss', mode='min', save_weights_only=False)\n",
    "model.fit(x_train, y_train,batch_size=64,epochs=10,verbose=1,validation_data=(x_test, y_test),callbacks=[ckpt])"
   ]
  },
  {
   "cell_type": "code",
   "execution_count": 18,
   "metadata": {},
   "outputs": [
    {
     "data": {
      "image/png": "[encoded data removed]",
      "text/plain": [
       "<Figure size 432x288 with 1 Axes>"
      ]
     },
     "metadata": {},
     "output_type": "display_data"
    }
   ],
   "source": [
    "import cv2 \n",
    "from matplotlib import pyplot as plt\n",
    "imgLoaded = cv2.imread('three.png',0)\n",
    "img = cv2.resize(imgLoaded, (28, 28))\n",
    "img = (img.astype(np.float32))/255.0\n",
    "img = img.reshape(1, 28, 28, 1)\n",
    "plt.imshow(imgLoaded,'gray')\n",
    "plt.title(np.argmax(model.predict(img)[0]))\n",
    "plt.xticks([]),plt.yticks([])\n",
    "plt.show()"
   ]
  }
 ],
 "metadata": {
  "kernelspec": {
   "display_name": "Python 3",
   "language": "python",
   "name": "python3"
  },
  "language_info": {
   "codemirror_mode": {
    "name": "ipython",
    "version": 3
   },
   "file_extension": ".py",
   "mimetype": "text/x-python",
   "name": "python",
   "nbconvert_exporter": "python",
   "pygments_lexer": "ipython3",
   "version": "3.7.6"
  }
 },
 "nbformat": 4,
 "nbformat_minor": 4
}
